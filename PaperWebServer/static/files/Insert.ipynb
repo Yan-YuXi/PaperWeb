{
 "cells": [
  {
   "cell_type": "code",
   "execution_count": null,
   "id": "00f1ea34",
   "metadata": {},
   "outputs": [],
   "source": [
    "import time\n",
    "from pymysql import *\n",
    "import pandas as pd\n",
    "import numpy as np\n",
    "import datetime"
   ]
  },
  {
   "cell_type": "code",
   "execution_count": null,
   "id": "e23000c1",
   "metadata": {},
   "outputs": [],
   "source": [
    "conn = connect(\n",
    "    host = '127.0.0.1',\n",
    "    user = 'root',\n",
    "    password = 'gky308219',\n",
    "    db = 'paper_web',\n",
    "    port = 3306,\n",
    "    charset = 'utf8'\n",
    ")"
   ]
  },
  {
   "cell_type": "code",
   "execution_count": null,
   "id": "2d254e1e",
   "metadata": {},
   "outputs": [],
   "source": [
    "cs = conn.cursor()\n",
    "s = \"select id from db_source_detail_info where source_name=%s\"\n",
    "cs.execute(s, test)"
   ]
  },
  {
   "cell_type": "code",
   "execution_count": null,
   "id": "4d4e5a2c",
   "metadata": {},
   "outputs": [],
   "source": [
    "d = cs.fetchall()"
   ]
  },
  {
   "cell_type": "code",
   "execution_count": null,
   "id": "1e7e7d73",
   "metadata": {},
   "outputs": [],
   "source": [
    "d[0][0]"
   ]
  },
  {
   "cell_type": "code",
   "execution_count": null,
   "id": "faddd62f",
   "metadata": {},
   "outputs": [],
   "source": [
    "source_type = data.loc[5]['Publication Type']\n",
    "test = data.loc[5]['Source Title'] if source_type != 'C' else data.loc[5]['Conference Title']\n",
    "test"
   ]
  },
  {
   "cell_type": "code",
   "execution_count": null,
   "id": "3d402ad4",
   "metadata": {},
   "outputs": [],
   "source": [
    "sql = \"insert into db_source_detail_info values (null, %s, %s, %s, %s, %s, %s, %s, %s, %s, 1, %s)\""
   ]
  },
  {
   "cell_type": "code",
   "execution_count": null,
   "id": "9532553d",
   "metadata": {},
   "outputs": [],
   "source": [
    "val = (source_name, source_type, source_date, source_location, source_publisher, source_issn, source_eissn, source_isbn, source_abbreviation, edit_date)"
   ]
  },
  {
   "cell_type": "code",
   "execution_count": null,
   "id": "3bad2a1c",
   "metadata": {},
   "outputs": [],
   "source": [
    "data = pd.read_excel('1 (1).xls', sheet_name='savedrecs', keep_default_na=False)"
   ]
  },
  {
   "cell_type": "code",
   "execution_count": null,
   "id": "abd747fb",
   "metadata": {},
   "outputs": [],
   "source": [
    "source_type = data.loc[0]['Publication Type']\n",
    "source_name = data.loc[0]['Source Title'] if source_type != 'C' else data.loc[0]['Conference Title']\n",
    "source_date = ' ' if len(data.loc[0]['Conference Date']) == 0 else data.loc[0]['Conference Date']\n",
    "source_location = data.loc[0]['Conference Location'] if source_type == 'C' else data.loc[0]['Addresses']\n",
    "source_location = ' '.join(source_location.split(','))\n",
    "source_publisher = ' '.join(data.loc[0]['Publisher'].split(','))\n",
    "source_issn = data.loc[0]['ISSN']\n",
    "source_eissn = data.loc[0]['eISSN']\n",
    "source_isbn = data.loc[0]['ISBN']\n",
    "source_abbreviation = data.loc[0]['Journal Abbreviation']\n",
    "edit_date = datetime.datetime.now().strftime('%Y-%m-%d %H:%M:%S')"
   ]
  },
  {
   "cell_type": "code",
   "execution_count": null,
   "id": "3b5063c0",
   "metadata": {},
   "outputs": [],
   "source": [
    "source_type"
   ]
  },
  {
   "cell_type": "code",
   "execution_count": null,
   "id": "b339dbed",
   "metadata": {
    "collapsed": true
   },
   "outputs": [],
   "source": [
    "# 导入期刊数据\n",
    "sql = \"insert into db_source_detail_info values (null, %s, %s, %s, %s, %s, %s, %s, %s, %s, 1, %s)\"\n",
    "for i in range(len(data)):\n",
    "    source_type = data.loc[i]['Publication Type']\n",
    "    source_name = data.loc[i]['Source Title'] if source_type != 'C' else data.loc[i]['Conference Title']\n",
    "    source_date = data.loc[i]['Conference Date']\n",
    "    source_location = data.loc[i]['Conference Location'] if source_type == 'C' else data.loc[i]['Addresses']\n",
    "    source_publisher = data.loc[i]['Publisher']\n",
    "    source_issn = data.loc[i]['ISSN']\n",
    "    source_eissn = data.loc[i]['eISSN']\n",
    "    source_isbn = data.loc[i]['ISBN']\n",
    "    source_abbreviation = data.loc[i]['Journal Abbreviation']\n",
    "    edit_date = datetime.datetime.now().strftime('%Y-%m-%d %H:%M:%S')\n",
    "    \n",
    "    val = (source_name, source_type, source_date, source_location, source_publisher, source_issn, source_eissn, source_isbn, source_abbreviation, edit_date)\n",
    "    cs = conn.cursor()\n",
    "    try:\n",
    "        cs.execute(sql, val)\n",
    "    except Exception as e:\n",
    "        print('插入SourceDetailInfo',e)\n",
    "    \n",
    "    conn.commit()"
   ]
  },
  {
   "cell_type": "code",
   "execution_count": null,
   "id": "73d82b3e",
   "metadata": {},
   "outputs": [],
   "source": [
    "# 导入文章数据\n",
    "sql = \"insert into db_paper_main_info values(null, %s, %s, %s, %s, %s, %s, 1, %s, %s)\"\n",
    "sel = \"select id from db_source_detail_info where source_name=%s\"\n",
    "for i in range(len(data)):\n",
    "    source_type = data.loc[i]['Publication Type']\n",
    "    source_name = data.loc[i]['Source Title'] if source_type != 'C' else data.loc[i]['Conference Title']\n",
    "    \n",
    "    cs = conn.cursor()\n",
    "    cs.execute(sel, source_name)\n",
    "    try:\n",
    "        temp = cs.fetchall()[0][0]\n",
    "        paper_title = data.loc[i]['Article Title']\n",
    "        paper_author = data.loc[i]['Author Full Names']\n",
    "        paper_publish_year = data.loc[i]['Publication Year']\n",
    "        paper_keywords = data.loc[i]['Author Keywords']\n",
    "        paper_abstract = data.loc[i]['Abstract']\n",
    "        paper_affiliations = data.loc[i]['Affiliations']\n",
    "        edit_date = datetime.datetime.now().strftime('%Y-%m-%d %H:%M:%S')\n",
    "\n",
    "        val = (paper_title, paper_author, paper_publish_year, paper_keywords, paper_abstract, paper_affiliations, edit_date, str(temp))\n",
    "\n",
    "        try:\n",
    "            cs.execute(sql, val)\n",
    "        except Exception as e:\n",
    "            print('插入MainInfo', e)\n",
    "    except Exception as e:\n",
    "        print('检索不到期刊:',source_name)\n",
    "\n",
    "\n",
    "    conn.commit()"
   ]
  },
  {
   "cell_type": "code",
   "execution_count": null,
   "id": "755ee82f",
   "metadata": {},
   "outputs": [],
   "source": [
    "# 导入其他数据\n",
    "sql_detail = \"insert into db_paper_detail_info values(null, %s, %s, %s, %s, %s, %s, %s, 1, %s, %s)\"\n",
    "sql_cited = \"insert into db_paper_cited_count values(null, %s, %s, 1, %s, %s)\"\n",
    "sql_download = \"insert into db_paper_download_count values(null, 0, 1, %s, %s)\"\n",
    "sql_file = \"insert into db_paper_file_path values(null, null, 1, %s, %s)\"\n",
    "sel = \"select id from db_paper_main_info where paper_title=%s and paper_publish_year=%s\"\n",
    "\n",
    "for i in range(len(data)):\n",
    "    paper_title = data.loc[i]['Article Title']\n",
    "    paper_publish_year = data.loc[i]['Publication Year']\n",
    "    cs = conn.cursor()\n",
    "    val = (paper_title, paper_publish_year)\n",
    "    cs.execute(sel, val)\n",
    "    \n",
    "    try:\n",
    "        temp = cs.fetchall()[0][0]\n",
    "        \n",
    "        paper_language = data.loc[i]['Language']\n",
    "        paper_volume = data.loc[i]['Volume']\n",
    "        paper_issue = data.loc[i]['Issue']\n",
    "        paper_start_page = data.loc[i]['Start Page']\n",
    "        paper_end_page = data.loc[i]['End Page']\n",
    "        paper_page = str(paper_start_page) + '-' + str(paper_end_page)\n",
    "        paper_doi = data.loc[i]['DOI']\n",
    "        paper_ids = data.loc[i]['IDS Number']\n",
    "        paper_wos = data.loc[i]['UT (Unique WOS ID)']\n",
    "        \n",
    "        cited_reference_count = data.loc[i]['Cited Reference Count']\n",
    "        cited_times = data.loc[i]['Times Cited, All Databases']\n",
    "        \n",
    "        edit_date = datetime.datetime.now().strftime('%Y-%m-%d %H:%M:%S')\n",
    "        \n",
    "        val_detail = (paper_language, paper_volume, paper_issue, paper_page, paper_doi, paper_ids, paper_wos, edit_date, str(temp))\n",
    "        val_cited = (int(cited_reference_count), int(cited_times), edit_date, str(temp))\n",
    "        val_download = (edit_date, str(temp))\n",
    "        val_file = (edit_date, str(temp))\n",
    "        \n",
    "        try:\n",
    "            cs.execute(sql_detail, val_detail)\n",
    "        except Exception as e:\n",
    "            print('插入Detail', e)\n",
    "        try:\n",
    "            cs.execute(sql_cited, val_cited)\n",
    "        except Exception as e:\n",
    "            print('插入Cited', e)\n",
    "        try:\n",
    "            cs.execute(sql_download, val_download)\n",
    "        except Exception as e:\n",
    "            print('插入Download', e)\n",
    "        try:\n",
    "            cs.execute(sql_file, val_file)\n",
    "        except Exception as e:\n",
    "            print('插入File', e)\n",
    "    except Exception as e:\n",
    "        print('文章没有存入数据库：',paper_title)\n",
    "        \n",
    "    conn.commit()"
   ]
  },
  {
   "cell_type": "code",
   "execution_count": null,
   "id": "8c6aaa48",
   "metadata": {},
   "outputs": [],
   "source": [
    "cs = conn.cursor()\n",
    "try: \n",
    "    cs.execute(sql)\n",
    "except Exception as e:\n",
    "    print('插入source',e)\n"
   ]
  },
  {
   "cell_type": "code",
   "execution_count": null,
   "id": "4ffe49f1",
   "metadata": {},
   "outputs": [],
   "source": [
    "source_id = cs.execute(f'select id from db_source_detail_info where source_name=\"{source_name}\"')"
   ]
  },
  {
   "cell_type": "code",
   "execution_count": null,
   "id": "9b47731b",
   "metadata": {},
   "outputs": [],
   "source": [
    "for i in range(len(data)):\n",
    "    source_type = data.loc[i]['Publication Type']\n",
    "    source_name = data.loc[i]['Source Title'] if source_type != 'C' else data.loc[i]['Conference Title']\n",
    "    source_date = data.loc[i]['Conference Date']\n",
    "    source_location = data.loc[i]['Conference Location'] if source_type == 'C' else data.loc[i]['Addresses']\n",
    "    source_publisher = data.loc[i]['Publisher']\n",
    "    source_issn = data.loc[i]['ISSN']\n",
    "    source_eissn = data.loc[i]['eISSN']\n",
    "    source_isbn = data.loc[i]['ISBN']\n",
    "    source_abbreviation = data.loc[i]['Journal Abbreviation']\n",
    "\n",
    "    cs = conn.cursor()\n",
    "    try:\n",
    "        sql = f'insert into paper_sourcedetailinfomodel(source_name,source_type,source_date,source_location,source_publisher_source_issn,source_eissn,source_isbn,source_abbrevation) values({source_name},{source_type},{source_date},{source_location},{source_publisher},{source_issn},{source_eissn},{source_isbn},{source_abbreviation}'\n",
    "        cs.execute(sql)\n",
    "    except Exception as e:\n",
    "        print('插入source',e)\n",
    "    source_id = cs.execute(f'select source_id from paper_sourcedetailinfomodel where source_name={source_name}').fetchall()\n",
    "\n",
    "    paper_title = data.loc[i]['Article Title']\n",
    "    paper_author = data.loc[i]['Author Full Names']\n",
    "    paper_publish_year = data.loc[i]['Publication Year']\n",
    "    paper_keywords = data.loc[i]['Author Keywords']\n",
    "    paper_abstract = data.loc[i]['Abstract']\n",
    "    paper_affiliations = data.loc[i]['Affiliations']\n",
    "\n",
    "    try:\n",
    "        sql = f'insert into paper_papermaininfomodel(paper_title,paper_author,paper_publisher_year,paper_keywords,paper_abstract,paper_affiliations,paper_source_id) values({paper_title},{paper_author},{paper_publish_year},{paper_keywords},{paper_abstract},{paper_affiliations},{source_id})'\n",
    "        cs.execute('插入MainInfo',sql)\n",
    "    except Exception as e:\n",
    "        print(e)\n",
    "    paper_id = cs.execute(f'select paper_id from paper_papermaininfomodel where paper_title={paper_title}').fetchall()[0]\n",
    "\n",
    "    paper_language = data.loc[i]['Language']\n",
    "    paper_volume = data.loc[i]['Volume']\n",
    "    paper_issue = data.loc[i]['Issue']\n",
    "    paper_start_page = data.loc[i]['Start Page']\n",
    "    paper_end_page = data.loc[i]['End Page']\n",
    "    paper_page = str(paper_start_page) + str(paper_end_page)\n",
    "    paper_doi = data.loc[i]['DOI']\n",
    "    paper_ids = data.loc[i]['IDS Number']\n",
    "    paper_wos = data.loc[i]['UT (Unique WOS ID)']\n",
    "\n",
    "\n",
    "    try: \n",
    "        sql = f'insert into paper_paperdetailinfomodel(paper_language,paper_volume,paper_issue,paper_page,paper_doi,paper_ids,paper_wos,paper_id_id) values({paper_language},{paper_volume},{paper_issue},{paper_page},{paper_doi},{paper_ids},{paper_wos},{paper_id})'\n",
    "        cs.execute(sql)\n",
    "    except Exception as e:\n",
    "        print('插入DetailInfo',e)\n",
    "\n",
    "    cited_reference_count = data.loc[i]['Cited Reference Count']\n",
    "    cited_times = data.loc[i]['Times Cited, All Databases']\n",
    "    try:\n",
    "        sql = f'insert into paper_papercitedcountmodel(cited_reference_count,cited_times,paper_id_id) values({cited_reference_count},{cited_times},{paper_id})'\n",
    "        cs.exceute(sql)\n",
    "    except Exception as e:\n",
    "        print('插入CitedCount',e)\n",
    "    \n",
    "    try:\n",
    "        cs.exceute(f'insert into paper_paperdownloadcountmodel(paper_id_id) values({paper_id})')\n",
    "        cs.exceute(f'insert into paper_paperfilepathmodel(paper_id_id) values({paper_id})')\n",
    "    except Exception as e:\n",
    "        print('最后两个',e)\n",
    "        "
   ]
  },
  {
   "cell_type": "code",
   "execution_count": null,
   "id": "65b0b872",
   "metadata": {},
   "outputs": [],
   "source": [
    "B = insert(conn, data)"
   ]
  },
  {
   "cell_type": "code",
   "execution_count": null,
   "id": "58ad7ca2",
   "metadata": {},
   "outputs": [],
   "source": [
    "for i in range(len(data)):\n",
    "    print('当前出版商：',data.loc[i]['Publisher'], '\\n')"
   ]
  },
  {
   "cell_type": "code",
   "execution_count": null,
   "id": "17ee4872",
   "metadata": {},
   "outputs": [],
   "source": [
    "len(data)"
   ]
  },
  {
   "cell_type": "code",
   "execution_count": null,
   "id": "4a6ffa9b",
   "metadata": {},
   "outputs": [],
   "source": [
    "def GetInfo(data):\n",
    "    for itme in data:\n",
    "        \n",
    "    source_name = data['']\n",
    "    source_type = data['']\n",
    "    source_date = data['']\n",
    "    source_location = data['']\n",
    "    source_publisher = data['']\n",
    "    source_issn = data['']\n",
    "    source_eissn = data['']\n",
    "    source_isbn = data['']\n",
    "    source_abbreviation = data['']\n",
    "    \n",
    "    paper_title = data['']\n",
    "    paper_author = data['']\n",
    "    paper_publish_year = ['']\n",
    "    paper_keywords = data['']\n",
    "    paper_abstract = data['']\n",
    "    paper_affiliations = data['']\n",
    "    \n",
    "    paper_language = data['']\n",
    "    paper_volume = data['']\n",
    "    paper_issue = data['']\n",
    "    paper_page = data['']\n",
    "    paper_doi = data['']\n",
    "    paper_ids = data['']\n",
    "    paper_wos = data['']\n",
    "    \n",
    "    cited_reference_count = data['']\n",
    "    cited_times = data['']\n",
    "    "
   ]
  },
  {
   "cell_type": "code",
   "execution_count": null,
   "id": "bdb284cc",
   "metadata": {},
   "outputs": [],
   "source": [
    "time.time()"
   ]
  }
 ],
 "metadata": {
  "kernelspec": {
   "display_name": "Python 3 (ipykernel)",
   "language": "python",
   "name": "python3"
  },
  "language_info": {
   "codemirror_mode": {
    "name": "ipython",
    "version": 3
   },
   "file_extension": ".py",
   "mimetype": "text/x-python",
   "name": "python",
   "nbconvert_exporter": "python",
   "pygments_lexer": "ipython3",
   "version": "3.11.3"
  }
 },
 "nbformat": 4,
 "nbformat_minor": 5
}
